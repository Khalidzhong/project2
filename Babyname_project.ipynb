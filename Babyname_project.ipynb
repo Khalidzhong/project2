{
 "cells": [
  {
   "cell_type": "markdown",
   "metadata": {},
   "source": [
    "## 项目背景\n",
    "  \n",
    "自学数据分析以来，到现在也算学了不少内容，一直想着花点时间把自己学习的知识复习回顾一遍，做一些实战项目多多练习，以增加熟练度。正巧在kaggle看项目的时候，找到一个感兴趣的项目资料，关于美国1880年-2014年的婴儿名字频率数据。本项目打算着重复习python数据分析相关的知识，主要包括numpy, pandas和matplotlib这几个库。  \n",
    "  \n",
    "本项目数据来自于官方公布的真实数据，数据来源于kaggle,网络地址：[US Baby Names](https://www.kaggle.com/kaggle/us-baby-names)"
   ]
  },
  {
   "cell_type": "markdown",
   "metadata": {},
   "source": [
    "## 观察数据  \n",
    "\n",
    "本数据包含有美国从1880年-2014年的婴儿名字频率数据。数据列名的含义如下：\n",
    "  \n",
    "Id: 行号  \n",
    "Name: 名字  \n",
    "Year: 出生年份  \n",
    "Gender: 性别  \n",
    "Count: 名字总计数量  "
   ]
  },
  {
   "cell_type": "markdown",
   "metadata": {},
   "source": [
    "## 1. 提出问题\n",
    "根据数据，初步思考，提出以下问题：\n",
    "\n",
    "1.1880年-2014年美国男女婴儿总出生数的年度变化趋势如何？    \n",
    "2.父母对于为孩子取常见名的意愿是怎么样的？  \n",
    "3.父母为孩子取名最爱用哪个首字母和哪个尾字母？"
   ]
  },
  {
   "cell_type": "markdown",
   "metadata": {},
   "source": [
    "## 2. 数据整理"
   ]
  },
  {
   "cell_type": "markdown",
   "metadata": {},
   "source": [
    "### 2.1.导入数据&查看基本信息"
   ]
  },
  {
   "cell_type": "code",
   "execution_count": 57,
   "metadata": {},
   "outputs": [],
   "source": [
    "#建立一个Ipython文件，导入本项目可能用到的库，如数据分析的numpy和pandas,作图的matplotlib\n",
    "import numpy as np\n",
    "import pandas as pd\n",
    "import matplotlib.pyplot as plt\n",
    "%matplotlib inline"
   ]
  },
  {
   "cell_type": "code",
   "execution_count": 58,
   "metadata": {},
   "outputs": [],
   "source": [
    "#先使用pandas的read_csv函数导入数据\n",
    "names = pd.read_csv('babynames/NationalNames.csv')"
   ]
  },
  {
   "cell_type": "code",
   "execution_count": 59,
   "metadata": {},
   "outputs": [
    {
     "data": {
      "text/html": [
       "<div>\n",
       "<style scoped>\n",
       "    .dataframe tbody tr th:only-of-type {\n",
       "        vertical-align: middle;\n",
       "    }\n",
       "\n",
       "    .dataframe tbody tr th {\n",
       "        vertical-align: top;\n",
       "    }\n",
       "\n",
       "    .dataframe thead th {\n",
       "        text-align: right;\n",
       "    }\n",
       "</style>\n",
       "<table border=\"1\" class=\"dataframe\">\n",
       "  <thead>\n",
       "    <tr style=\"text-align: right;\">\n",
       "      <th></th>\n",
       "      <th>Id</th>\n",
       "      <th>Name</th>\n",
       "      <th>Year</th>\n",
       "      <th>Gender</th>\n",
       "      <th>Count</th>\n",
       "    </tr>\n",
       "  </thead>\n",
       "  <tbody>\n",
       "    <tr>\n",
       "      <th>0</th>\n",
       "      <td>1</td>\n",
       "      <td>Mary</td>\n",
       "      <td>1880</td>\n",
       "      <td>F</td>\n",
       "      <td>7065</td>\n",
       "    </tr>\n",
       "    <tr>\n",
       "      <th>1</th>\n",
       "      <td>2</td>\n",
       "      <td>Anna</td>\n",
       "      <td>1880</td>\n",
       "      <td>F</td>\n",
       "      <td>2604</td>\n",
       "    </tr>\n",
       "    <tr>\n",
       "      <th>2</th>\n",
       "      <td>3</td>\n",
       "      <td>Emma</td>\n",
       "      <td>1880</td>\n",
       "      <td>F</td>\n",
       "      <td>2003</td>\n",
       "    </tr>\n",
       "    <tr>\n",
       "      <th>3</th>\n",
       "      <td>4</td>\n",
       "      <td>Elizabeth</td>\n",
       "      <td>1880</td>\n",
       "      <td>F</td>\n",
       "      <td>1939</td>\n",
       "    </tr>\n",
       "    <tr>\n",
       "      <th>4</th>\n",
       "      <td>5</td>\n",
       "      <td>Minnie</td>\n",
       "      <td>1880</td>\n",
       "      <td>F</td>\n",
       "      <td>1746</td>\n",
       "    </tr>\n",
       "  </tbody>\n",
       "</table>\n",
       "</div>"
      ],
      "text/plain": [
       "   Id       Name  Year Gender  Count\n",
       "0   1       Mary  1880      F   7065\n",
       "1   2       Anna  1880      F   2604\n",
       "2   3       Emma  1880      F   2003\n",
       "3   4  Elizabeth  1880      F   1939\n",
       "4   5     Minnie  1880      F   1746"
      ]
     },
     "execution_count": 59,
     "metadata": {},
     "output_type": "execute_result"
    }
   ],
   "source": [
    "#查看数据的基本信息\n",
    "names.head()"
   ]
  },
  {
   "cell_type": "code",
   "execution_count": 60,
   "metadata": {},
   "outputs": [
    {
     "name": "stdout",
     "output_type": "stream",
     "text": [
      "<class 'pandas.core.frame.DataFrame'>\n",
      "RangeIndex: 1825433 entries, 0 to 1825432\n",
      "Data columns (total 5 columns):\n",
      "Id        int64\n",
      "Name      object\n",
      "Year      int64\n",
      "Gender    object\n",
      "Count     int64\n",
      "dtypes: int64(3), object(2)\n",
      "memory usage: 69.6+ MB\n"
     ]
    }
   ],
   "source": [
    "names.info()"
   ]
  },
  {
   "cell_type": "code",
   "execution_count": 61,
   "metadata": {},
   "outputs": [
    {
     "data": {
      "text/plain": [
       "Id        0\n",
       "Name      0\n",
       "Year      0\n",
       "Gender    0\n",
       "Count     0\n",
       "dtype: int64"
      ]
     },
     "execution_count": 61,
     "metadata": {},
     "output_type": "execute_result"
    }
   ],
   "source": [
    "names.isnull().sum()"
   ]
  },
  {
   "cell_type": "markdown",
   "metadata": {},
   "source": [
    "1.取样的数据，有5个字段，包括1825433条记录;  \n",
    "2.没有缺失值，不需要缺失值处理，是一份很好的数据。"
   ]
  },
  {
   "cell_type": "markdown",
   "metadata": {},
   "source": [
    "### 2.2.数据处理"
   ]
  },
  {
   "cell_type": "markdown",
   "metadata": {},
   "source": [
    "插入prop列,表示指定名字的婴儿数相对于总出生数的比例"
   ]
  },
  {
   "cell_type": "code",
   "execution_count": 62,
   "metadata": {},
   "outputs": [],
   "source": [
    "#定义一个函数add_prop，作用是先将year和gender 分组，再计算指定名字的婴儿数相对于总出生数的比例。\n",
    "def add_prop(data):\n",
    "    #转换格式，换为浮点数\n",
    "    Count = data.Count.astype(float)\n",
    "    #创建一列，列名为prop，计算指定名字的婴儿数相对于总出生数的比例。ps：不同年份相同名字属于不同名字。\n",
    "    data['prop'] = Count / Count.sum()\n",
    "    return data\n",
    "names = names.groupby(['Year','Gender']).apply(add_prop)"
   ]
  },
  {
   "cell_type": "markdown",
   "metadata": {},
   "source": [
    "## 数据分析&可视化"
   ]
  },
  {
   "cell_type": "markdown",
   "metadata": {},
   "source": [
    "### 问题解答"
   ]
  },
  {
   "cell_type": "markdown",
   "metadata": {},
   "source": [
    "#### 第一个问题：1880年-2014年美国男女婴儿总出生数的年度变化趋势如何？"
   ]
  },
  {
   "cell_type": "code",
   "execution_count": 63,
   "metadata": {},
   "outputs": [],
   "source": [
    "# 求男女每年的总出生数,使用groupby聚合函数和unstack()函数\n",
    "total_count = names.groupby(['Year','Gender']).sum()\n",
    "total_count=total_count['Count'].unstack()"
   ]
  },
  {
   "cell_type": "code",
   "execution_count": 64,
   "metadata": {},
   "outputs": [
    {
     "data": {
      "text/html": [
       "<div>\n",
       "<style scoped>\n",
       "    .dataframe tbody tr th:only-of-type {\n",
       "        vertical-align: middle;\n",
       "    }\n",
       "\n",
       "    .dataframe tbody tr th {\n",
       "        vertical-align: top;\n",
       "    }\n",
       "\n",
       "    .dataframe thead th {\n",
       "        text-align: right;\n",
       "    }\n",
       "</style>\n",
       "<table border=\"1\" class=\"dataframe\">\n",
       "  <thead>\n",
       "    <tr style=\"text-align: right;\">\n",
       "      <th>Gender</th>\n",
       "      <th>F</th>\n",
       "      <th>M</th>\n",
       "    </tr>\n",
       "    <tr>\n",
       "      <th>Year</th>\n",
       "      <th></th>\n",
       "      <th></th>\n",
       "    </tr>\n",
       "  </thead>\n",
       "  <tbody>\n",
       "    <tr>\n",
       "      <th>1880</th>\n",
       "      <td>90993</td>\n",
       "      <td>110491</td>\n",
       "    </tr>\n",
       "    <tr>\n",
       "      <th>1881</th>\n",
       "      <td>91954</td>\n",
       "      <td>100745</td>\n",
       "    </tr>\n",
       "    <tr>\n",
       "      <th>1882</th>\n",
       "      <td>107850</td>\n",
       "      <td>113688</td>\n",
       "    </tr>\n",
       "    <tr>\n",
       "      <th>1883</th>\n",
       "      <td>112321</td>\n",
       "      <td>104629</td>\n",
       "    </tr>\n",
       "    <tr>\n",
       "      <th>1884</th>\n",
       "      <td>129022</td>\n",
       "      <td>114445</td>\n",
       "    </tr>\n",
       "  </tbody>\n",
       "</table>\n",
       "</div>"
      ],
      "text/plain": [
       "Gender       F       M\n",
       "Year                  \n",
       "1880     90993  110491\n",
       "1881     91954  100745\n",
       "1882    107850  113688\n",
       "1883    112321  104629\n",
       "1884    129022  114445"
      ]
     },
     "execution_count": 64,
     "metadata": {},
     "output_type": "execute_result"
    }
   ],
   "source": [
    "#查看函数前五项\n",
    "total_count.head()"
   ]
  },
  {
   "cell_type": "code",
   "execution_count": 65,
   "metadata": {},
   "outputs": [
    {
     "data": {
      "text/plain": [
       "Text(0,0.5,'The number of baby')"
      ]
     },
     "execution_count": 65,
     "metadata": {},
     "output_type": "execute_result"
    },
    {
     "data": {
      "image/png": "[encoded data removed]",
      "text/plain": [
       "<matplotlib.figure.Figure at 0x2110e1f3978>"
      ]
     },
     "metadata": {},
     "output_type": "display_data"
    }
   ],
   "source": [
    "#作折线图\n",
    "total_count.plot()\n",
    "plt.title('Total count by Gender and Year')\n",
    "plt.ylabel('The number of baby')"
   ]
  },
  {
   "cell_type": "markdown",
   "metadata": {},
   "source": [
    "从图中可以看出：  \n",
    "1.美国每年出生人口增长呈现波动性增长，而在近30年来，每年出生人口趋于稳定。    \n",
    "  \n",
    "2.其中在1910年-1920年和1940年-1960年，有着飞速发展的情况。分析其增长原因：  \n",
    "  2.1.1910年-1920年，美国处于经济飞速发展阶段，人口增长固然伴随着经济发展。  \n",
    "  2.2.1940年-1960年是由于二战结束之后，军人复原带来的婴儿潮。  \n",
    "  \n",
    "资料来源：[美国全国卫生统计中心：美国人口出生率降至30年最低](http://www.199it.com/archives/726263.html)  \n",
    "[美国人口_百度百科](https://baike.baidu.com/item/%E7%BE%8E%E5%9B%BD%E4%BA%BA%E5%8F%A3/3198477?fr=aladdin)"
   ]
  },
  {
   "cell_type": "markdown",
   "metadata": {},
   "source": [
    "#### 第二个问题：父母对于为孩子取常见名的意愿是怎么样的？"
   ]
  },
  {
   "cell_type": "markdown",
   "metadata": {},
   "source": [
    "为了了解父母是否倾向于为孩子取常见名，我需要计算常见名在所有名字中的比例。  \n",
    "由于名字太多，我定义最多人取的1000个名字为常见名，并且计算其所占比例。"
   ]
  },
  {
   "cell_type": "code",
   "execution_count": 66,
   "metadata": {},
   "outputs": [],
   "source": [
    "#取names的一个子集，前1000个最多人取的名字。\n",
    "def gettop1000(group):\n",
    "    return group.sort_values(by='Count',ascending = False)[:1000]\n",
    "grouped = names.groupby(['Year','Gender'])\n",
    "top1000 = grouped.apply(gettop1000)"
   ]
  },
  {
   "cell_type": "code",
   "execution_count": 67,
   "metadata": {},
   "outputs": [
    {
     "name": "stderr",
     "output_type": "stream",
     "text": [
      "D:\\Anaconda\\lib\\site-packages\\pandas\\core\\reshape\\pivot.py:81: FutureWarning: 'Year' is both a column name and an index level.\n",
      "Defaulting to column but this will raise an ambiguity error in a future version\n",
      "  grouped = data.groupby(keys)\n",
      "D:\\Anaconda\\lib\\site-packages\\pandas\\core\\reshape\\pivot.py:81: FutureWarning: 'Gender' is both a column name and an index level.\n",
      "Defaulting to column but this will raise an ambiguity error in a future version\n",
      "  grouped = data.groupby(keys)\n"
     ]
    }
   ],
   "source": [
    "# 使用pivot_table函数在Year和 Gender级别上将数据聚合\n",
    "top1000_prop = top1000.pivot_table('prop',index = 'Year',columns = 'Gender',aggfunc = sum)"
   ]
  },
  {
   "cell_type": "code",
   "execution_count": 68,
   "metadata": {},
   "outputs": [
    {
     "data": {
      "text/html": [
       "<div>\n",
       "<style scoped>\n",
       "    .dataframe tbody tr th:only-of-type {\n",
       "        vertical-align: middle;\n",
       "    }\n",
       "\n",
       "    .dataframe tbody tr th {\n",
       "        vertical-align: top;\n",
       "    }\n",
       "\n",
       "    .dataframe thead th {\n",
       "        text-align: right;\n",
       "    }\n",
       "</style>\n",
       "<table border=\"1\" class=\"dataframe\">\n",
       "  <thead>\n",
       "    <tr style=\"text-align: right;\">\n",
       "      <th>Gender</th>\n",
       "      <th>F</th>\n",
       "      <th>M</th>\n",
       "    </tr>\n",
       "    <tr>\n",
       "      <th>Year</th>\n",
       "      <th></th>\n",
       "      <th></th>\n",
       "    </tr>\n",
       "  </thead>\n",
       "  <tbody>\n",
       "    <tr>\n",
       "      <th>1880</th>\n",
       "      <td>1.000000</td>\n",
       "      <td>0.997375</td>\n",
       "    </tr>\n",
       "    <tr>\n",
       "      <th>1881</th>\n",
       "      <td>1.000000</td>\n",
       "      <td>1.000000</td>\n",
       "    </tr>\n",
       "    <tr>\n",
       "      <th>1882</th>\n",
       "      <td>0.998702</td>\n",
       "      <td>0.995646</td>\n",
       "    </tr>\n",
       "    <tr>\n",
       "      <th>1883</th>\n",
       "      <td>0.997596</td>\n",
       "      <td>0.998566</td>\n",
       "    </tr>\n",
       "    <tr>\n",
       "      <th>1884</th>\n",
       "      <td>0.993156</td>\n",
       "      <td>0.994539</td>\n",
       "    </tr>\n",
       "  </tbody>\n",
       "</table>\n",
       "</div>"
      ],
      "text/plain": [
       "Gender         F         M\n",
       "Year                      \n",
       "1880    1.000000  0.997375\n",
       "1881    1.000000  1.000000\n",
       "1882    0.998702  0.995646\n",
       "1883    0.997596  0.998566\n",
       "1884    0.993156  0.994539"
      ]
     },
     "execution_count": 68,
     "metadata": {},
     "output_type": "execute_result"
    }
   ],
   "source": [
    "top1000_prop.head()"
   ]
  },
  {
   "cell_type": "code",
   "execution_count": 69,
   "metadata": {},
   "outputs": [
    {
     "data": {
      "text/plain": [
       "Text(0,0.5,'prop')"
      ]
     },
     "execution_count": 69,
     "metadata": {},
     "output_type": "execute_result"
    },
    {
     "data": {
      "image/png": "[encoded data removed]",
      "text/plain": [
       "<matplotlib.figure.Figure at 0x21104d03240>"
      ]
     },
     "metadata": {},
     "output_type": "display_data"
    }
   ],
   "source": [
    "top1000_prop.plot(title = 'Sum of top1000_prop by Year and Gender')\n",
    "plt.ylabel('prop')"
   ]
  },
  {
   "cell_type": "markdown",
   "metadata": {},
   "source": [
    "由图中可以看出：  \n",
    "1.常见名的比例逐年下降，从1880年的接近百分之百，如今的百分之80左右。  \n",
    "2.虽然如今常见名比例还是比较高，但是这个下降趋势表示愿意给孩子取常见名字的父母越来越少。  \n",
    "3.这种趋势还表明，受各种因素影响，名字的多样性在不断增长。"
   ]
  },
  {
   "cell_type": "markdown",
   "metadata": {},
   "source": [
    "#### 第三个问题：父母为孩子取名最爱用哪个首字母和哪个尾字母？"
   ]
  },
  {
   "cell_type": "code",
   "execution_count": 70,
   "metadata": {},
   "outputs": [],
   "source": [
    "# 创建lambda函数\n",
    "get_first_letter = lambda x : x[0]\n",
    "get_last_letter = lambda x : x[-1]\n",
    "\n",
    "#使用lambda函数，从names.Name取每一项的首字母和尾字母\n",
    "first_letters = names.Name.map(get_first_letter)\n",
    "last_letters = names.Name.map(get_last_letter)\n",
    "\n",
    "# 以防搞混，把列名改一下\n",
    "first_letters.name = 'first_letter'\n",
    "last_letters.name = 'last_letter'\n"
   ]
  },
  {
   "cell_type": "code",
   "execution_count": 71,
   "metadata": {},
   "outputs": [],
   "source": [
    "#用groupby函数统计数量\n",
    "sum_first_letters = names.pivot_table('Count',index = first_letters, columns =['Gender'],aggfunc = sum)\n",
    "sum_last_letters = names.pivot_table('Count',index = last_letters, columns =['Gender'],aggfunc = sum)"
   ]
  },
  {
   "cell_type": "code",
   "execution_count": 72,
   "metadata": {},
   "outputs": [
    {
     "data": {
      "text/plain": [
       "<matplotlib.axes._subplots.AxesSubplot at 0x21104661940>"
      ]
     },
     "execution_count": 72,
     "metadata": {},
     "output_type": "execute_result"
    },
    {
     "data": {
      "image/png": "[encoded data removed]",
      "text/plain": [
       "<matplotlib.figure.Figure at 0x211048354e0>"
      ]
     },
     "metadata": {},
     "output_type": "display_data"
    }
   ],
   "source": [
    "fig = plt.figure()\n",
    "ax1 = fig.add_subplot(2,2,1)\n",
    "sum_first_letters['M'].plot(kind = 'bar',title = 'Male',rot=0,figsize = (15,5))\n",
    "ax1 = fig.add_subplot(2,2,2)\n",
    "sum_first_letters['F'].plot(kind = 'bar',title = 'Female',rot=0,figsize = (15,5))"
   ]
  },
  {
   "cell_type": "code",
   "execution_count": 73,
   "metadata": {},
   "outputs": [
    {
     "data": {
      "text/plain": [
       "<matplotlib.axes._subplots.AxesSubplot at 0x21104dd8eb8>"
      ]
     },
     "execution_count": 73,
     "metadata": {},
     "output_type": "execute_result"
    },
    {
     "data": {
      "image/png": "[encoded data removed]",
      "text/plain": [
       "<matplotlib.figure.Figure at 0x21104742a90>"
      ]
     },
     "metadata": {},
     "output_type": "display_data"
    }
   ],
   "source": [
    "fig = plt.figure()\n",
    "ax3 = fig.add_subplot(2,2,1)\n",
    "sum_last_letters['M'].plot(kind = 'bar',title = 'Male',rot=0,figsize = (15,5))\n",
    "ax4 = fig.add_subplot(2,2,2)\n",
    "sum_last_letters['F'].plot(kind = 'bar',title = 'Female',rot=0,figsize = (15,5))"
   ]
  },
  {
   "cell_type": "markdown",
   "metadata": {},
   "source": [
    "由图上可知：  \n",
    "1.对于男孩子，父母喜欢取以'J','R','D'为首字母的名字和以'N','Y','S'为尾字母的名字。  \n",
    "2.对于女孩子，父母喜欢取以'M','A','J'为首字母的名字和以'A','E','Y'为尾字母的名字。"
   ]
  },
  {
   "cell_type": "code",
   "execution_count": null,
   "metadata": {},
   "outputs": [],
   "source": []
  }
 ],
 "metadata": {
  "kernelspec": {
   "display_name": "Python 3",
   "language": "python",
   "name": "python3"
  },
  "language_info": {
   "codemirror_mode": {
    "name": "ipython",
    "version": 3
   },
   "file_extension": ".py",
   "mimetype": "text/x-python",
   "name": "python",
   "nbconvert_exporter": "python",
   "pygments_lexer": "ipython3",
   "version": "3.6.4"
  }
 },
 "nbformat": 4,
 "nbformat_minor": 2
}
